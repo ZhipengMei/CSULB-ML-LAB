{
 "cells": [
  {
   "cell_type": "markdown",
   "metadata": {},
   "source": [
    "## Convolutional Neural Network\n",
    "### by Patrapee Pongtana"
   ]
  },
  {
   "cell_type": "markdown",
   "metadata": {},
   "source": [
    "Prerequisite: You must run Jupyter Notebook while you're under Tensorflow environment from the terminal"
   ]
  },
  {
   "cell_type": "markdown",
   "metadata": {},
   "source": [
    "Import necessary libraries"
   ]
  },
  {
   "cell_type": "code",
   "execution_count": 1,
   "metadata": {},
   "outputs": [
    {
     "name": "stderr",
     "output_type": "stream",
     "text": [
      "Using TensorFlow backend.\n"
     ]
    }
   ],
   "source": [
    "import numpy\n",
    "from keras.datasets import mnist\n",
    "from keras.models import Sequential\n",
    "from keras.layers import Dense\n",
    "from keras.layers import Dropout\n",
    "from keras.layers import Flatten\n",
    "from keras.utils import np_utils\n",
    "from keras.layers.convolutional import Conv2D\n",
    "from keras.layers.convolutional import MaxPooling2D\n",
    "from keras import backend as K\n",
    "K.set_image_dim_ordering('th')\n",
    "import matplotlib.pyplot as plt\n",
    "%matplotlib inline"
   ]
  },
  {
   "cell_type": "markdown",
   "metadata": {},
   "source": [
    "Load the data from MNIST database:"
   ]
  },
  {
   "cell_type": "code",
   "execution_count": 2,
   "metadata": {},
   "outputs": [],
   "source": [
    "(X_train, y_train), (X_test, y_test) = mnist.load_data()"
   ]
  },
  {
   "cell_type": "markdown",
   "metadata": {},
   "source": [
    "Now, we can see the sample data:"
   ]
  },
  {
   "cell_type": "code",
   "execution_count": 3,
   "metadata": {},
   "outputs": [
    {
     "data": {
      "text/plain": [
       "<matplotlib.image.AxesImage at 0x2cc60df7668>"
      ]
     },
     "execution_count": 3,
     "metadata": {},
     "output_type": "execute_result"
    },
    {
     "data": {
      "image/png": "[encoded data removed]",
      "text/plain": [
       "<matplotlib.figure.Figure at 0x2cc5842b668>"
      ]
     },
     "metadata": {},
     "output_type": "display_data"
    }
   ],
   "source": [
    "plt.subplot(221)\n",
    "plt.imshow(X_train[2], cmap=plt.get_cmap('gray')) # Sample 3 out of 60000"
   ]
  },
  {
   "cell_type": "markdown",
   "metadata": {},
   "source": [
    "Randomize the seed so we can reproduce the result:"
   ]
  },
  {
   "cell_type": "code",
   "execution_count": 4,
   "metadata": {},
   "outputs": [],
   "source": [
    "seed = 5\n",
    "numpy.random.seed(seed)"
   ]
  },
  {
   "cell_type": "markdown",
   "metadata": {},
   "source": [
    "Given X_train dataset. The following is the features of the array X_train:"
   ]
  },
  {
   "cell_type": "code",
   "execution_count": 5,
   "metadata": {},
   "outputs": [],
   "source": [
    "#X_train.shape[0] = total samples = 60000\n",
    "#X_train.shape[1] = width of the picture = 28\n",
    "#X_train.shape[2] = height of the picture = 28"
   ]
  },
  {
   "cell_type": "markdown",
   "metadata": {},
   "source": [
    "Turn the shape of the dataset into a vector of a vector. Row of 60000 samples and 784 (28*28) columns:"
   ]
  },
  {
   "cell_type": "code",
   "execution_count": 6,
   "metadata": {},
   "outputs": [],
   "source": [
    "X_train = X_train.reshape(X_train.shape[0], 1, 28, 28).astype('float32')\n",
    "X_test = X_test.reshape(X_test.shape[0], 1, 28, 28).astype('float32')"
   ]
  },
  {
   "cell_type": "markdown",
   "metadata": {},
   "source": [
    "Normalize all input pixels from 0-255 (RGB) to 0-1:"
   ]
  },
  {
   "cell_type": "code",
   "execution_count": 7,
   "metadata": {},
   "outputs": [],
   "source": [
    "X_train = X_train / 255\n",
    "X_test = X_test / 255"
   ]
  },
  {
   "cell_type": "markdown",
   "metadata": {},
   "source": [
    "Convert 1 dimensional label into 10 dimensional labels:"
   ]
  },
  {
   "cell_type": "code",
   "execution_count": 8,
   "metadata": {},
   "outputs": [],
   "source": [
    "y_train = np_utils.to_categorical(y_train)\n",
    "y_test = np_utils.to_categorical(y_test)"
   ]
  },
  {
   "cell_type": "markdown",
   "metadata": {},
   "source": [
    "Now we can create an architecture function:\n",
    "\n",
    "    30 Convolutional Layers Map. Size 5 x 5\n",
    "    Max pooling 2 x 2\n",
    "    15 Convolutional Layers Map. Size 3 x 3\n",
    "    Max pooling 2 x 2\n",
    "    Dropout layer with 20% to reduce overfitting of data\n",
    "    Flat layer for connecting\n",
    "    Fully connected layer with 128 neurons and relu\n",
    "    Fully connected layer with 50 neurons with relu\n",
    "    Output the neurons with softmax activation function\n",
    "    Compile the current model and then return"
   ]
  },
  {
   "cell_type": "code",
   "execution_count": 9,
   "metadata": {},
   "outputs": [],
   "source": [
    "def CNN_model():\n",
    "    model = Sequential()\n",
    "    model.add(Conv2D(30, (5, 5), input_shape=(1, 28, 28), activation='relu'))\n",
    "    model.add(MaxPooling2D(pool_size=(2, 2)))\n",
    "    model.add(Conv2D(15, (3, 3),activation='relu'))\n",
    "    model.add(MaxPooling2D(pool_size=(2, 2)))\n",
    "    model.add(Dropout(0.2))\n",
    "    model.add(Flatten())\n",
    "    model.add(Dense(128, activation='relu'))\n",
    "    model.add(Dense(50, activation='relu'))\n",
    "    model.add(Dense(10, activation='softmax'))\n",
    "    model.compile(loss='categorical_crossentropy', optimizer='adam', metrics=['accuracy'])\n",
    "    return model"
   ]
  },
  {
   "cell_type": "markdown",
   "metadata": {},
   "source": [
    "Now we can fit all of our data into the model:"
   ]
  },
  {
   "cell_type": "code",
   "execution_count": 10,
   "metadata": {},
   "outputs": [
    {
     "name": "stdout",
     "output_type": "stream",
     "text": [
      "Train on 60000 samples, validate on 10000 samples\n",
      "Epoch 1/10\n",
      "60000/60000 [==============================] - 113s 2ms/step - loss: 0.3807 - acc: 0.8836 - val_loss: 0.0832 - val_acc: 0.9750\n",
      "Epoch 2/10\n",
      "60000/60000 [==============================] - 99s 2ms/step - loss: 0.0958 - acc: 0.9698 - val_loss: 0.0477 - val_acc: 0.9854\n",
      "Epoch 3/10\n",
      "60000/60000 [==============================] - 91s 2ms/step - loss: 0.0714 - acc: 0.9776 - val_loss: 0.0458 - val_acc: 0.9853\n",
      "Epoch 4/10\n",
      "60000/60000 [==============================] - 88s 1ms/step - loss: 0.0571 - acc: 0.9822 - val_loss: 0.0314 - val_acc: 0.9900\n",
      "Epoch 5/10\n",
      "60000/60000 [==============================] - 88s 1ms/step - loss: 0.0492 - acc: 0.9844 - val_loss: 0.0396 - val_acc: 0.9875\n",
      "Epoch 6/10\n",
      "60000/60000 [==============================] - 90s 2ms/step - loss: 0.0436 - acc: 0.9860 - val_loss: 0.0291 - val_acc: 0.9908\n",
      "Epoch 7/10\n",
      "60000/60000 [==============================] - 87s 1ms/step - loss: 0.0392 - acc: 0.9874 - val_loss: 0.0312 - val_acc: 0.9897\n",
      "Epoch 8/10\n",
      "60000/60000 [==============================] - 91s 2ms/step - loss: 0.0344 - acc: 0.9892 - val_loss: 0.0322 - val_acc: 0.9899\n",
      "Epoch 9/10\n",
      "60000/60000 [==============================] - 89s 1ms/step - loss: 0.0332 - acc: 0.9895 - val_loss: 0.0295 - val_acc: 0.9898\n",
      "Epoch 10/10\n",
      "60000/60000 [==============================] - 91s 2ms/step - loss: 0.0293 - acc: 0.9909 - val_loss: 0.0231 - val_acc: 0.9931\n",
      "Percentage of accuracy: 99.31%\n"
     ]
    }
   ],
   "source": [
    "model = CNN_model()\n",
    "model.fit(X_train, y_train, validation_data=(X_test, y_test), epochs=10, batch_size=200)\n",
    "scores = model.evaluate(X_test, y_test, verbose=0)\n",
    "print('Percentage of accuracy: %.2f%%' % (scores[1]*100))"
   ]
  },
  {
   "cell_type": "code",
   "execution_count": null,
   "metadata": {},
   "outputs": [],
   "source": []
  }
 ],
 "metadata": {
  "kernelspec": {
   "display_name": "Python 3",
   "language": "python",
   "name": "python3"
  },
  "language_info": {
   "codemirror_mode": {
    "name": "ipython",
    "version": 3
   },
   "file_extension": ".py",
   "mimetype": "text/x-python",
   "name": "python",
   "nbconvert_exporter": "python",
   "pygments_lexer": "ipython3",
   "version": "3.6.3"
  }
 },
 "nbformat": 4,
 "nbformat_minor": 2
}
